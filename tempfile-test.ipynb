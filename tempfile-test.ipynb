{
 "cells": [
  {
   "cell_type": "code",
   "execution_count": 1,
   "metadata": {},
   "outputs": [],
   "source": [
    "import os "
   ]
  },
  {
   "cell_type": "code",
   "execution_count": 2,
   "metadata": {},
   "outputs": [],
   "source": [
    "import tempfile"
   ]
  },
  {
   "cell_type": "code",
   "execution_count": 3,
   "metadata": {
    "scrolled": true
   },
   "outputs": [
    {
     "data": {
      "text/plain": [
       "12"
      ]
     },
     "execution_count": 3,
     "metadata": {},
     "output_type": "execute_result"
    }
   ],
   "source": [
    "###  1. TemporaryFile() 建立一個臨時file，當關閉時被刪除\n",
    "\n",
    "###  tempfile. TemporaryFile(mode=’w+b’, buffering=None, encoding=None, newline=None, suffix=none, prefix=None, dir=None)\n",
    "     # mode=’w+b’ 表示二進位制模式，確保了它的行為在所有平臺上始終保持一致，若要改本文模式則是mode=’w+t’\n",
    "     # buffering = 0/1/>1，0代表buffer關閉（適用於二進位模式），1代表line buffer（適用於文本模式），>1表示初始化的buffer大小\n",
    "     # encoding 表示的是返回的數據採用何種編碼，一般採用utf8或gbk\n",
    "     # newline = None,\\n,\\r,'','\\r\\n'，用于區分換行符號，但這個參數只對本文模式有效\n",
    "     # suffix,prefix,dir 可用來控制文件名和路徑\n",
    "\n",
    "# 建立並開啟暫存檔案（二進位）\n",
    "fp = tempfile.TemporaryFile()\n",
    "\n",
    "# 寫入二進位資料\n",
    "fp.write(b'Hello world!')"
   ]
  },
  {
   "cell_type": "code",
   "execution_count": 4,
   "metadata": {},
   "outputs": [
    {
     "data": {
      "text/plain": [
       "b'Hello world!'"
      ]
     },
     "execution_count": 4,
     "metadata": {},
     "output_type": "execute_result"
    }
   ],
   "source": [
    "# 將文件指到最開始處準備讀取文件\n",
    "fp.seek(0)\n",
    "\n",
    "# 讀取檔案內容\n",
    "fp.read()"
   ]
  },
  {
   "cell_type": "code",
   "execution_count": 5,
   "metadata": {},
   "outputs": [
    {
     "data": {
      "text/plain": [
       "True"
      ]
     },
     "execution_count": 5,
     "metadata": {},
     "output_type": "execute_result"
    }
   ],
   "source": [
    "os.path.exists(fp.name)"
   ]
  },
  {
   "cell_type": "code",
   "execution_count": 6,
   "metadata": {},
   "outputs": [],
   "source": [
    "# 關閉檔案（自動刪除檔案）\n",
    "fp.close()"
   ]
  },
  {
   "cell_type": "code",
   "execution_count": 7,
   "metadata": {},
   "outputs": [
    {
     "data": {
      "text/plain": [
       "False"
      ]
     },
     "execution_count": 7,
     "metadata": {},
     "output_type": "execute_result"
    }
   ],
   "source": [
    "os.path.exists(fp.name)"
   ]
  },
  {
   "cell_type": "code",
   "execution_count": 8,
   "metadata": {},
   "outputs": [
    {
     "data": {
      "text/plain": [
       "'C:\\\\Users\\\\user\\\\AppData\\\\Local\\\\Temp\\\\tmpf_jym8xp'"
      ]
     },
     "execution_count": 8,
     "metadata": {},
     "output_type": "execute_result"
    }
   ],
   "source": [
    "###  2. NamedTemporaryFile() 建立一個【有文件名】的臨時file，可用於要將文件名传傳遞给其他代碼来打開这个文件的时候使用，當關閉時被刪除\n",
    "\n",
    "###  tempfile. NamedTemporaryFile(mode=’w+b’, buffering=None, encoding=None, newline=None, suffix=None, dir=None, delete=True)\n",
    "     #若不想在close後自動刪除則將 delete=false即可\n",
    "\n",
    "    \n",
    "# 建立並開啟暫存檔案（二進位）    \n",
    "fp1 = tempfile.NamedTemporaryFile()\n",
    "\n",
    "#確認檔案名稱和路徑\n",
    "fp1.name"
   ]
  },
  {
   "cell_type": "code",
   "execution_count": 9,
   "metadata": {},
   "outputs": [
    {
     "data": {
      "text/plain": [
       "True"
      ]
     },
     "execution_count": 9,
     "metadata": {},
     "output_type": "execute_result"
    }
   ],
   "source": [
    "#確認檔案是否存在\n",
    "os.path.exists(fp1.name)"
   ]
  },
  {
   "cell_type": "code",
   "execution_count": null,
   "metadata": {},
   "outputs": [],
   "source": []
  },
  {
   "cell_type": "code",
   "execution_count": 10,
   "metadata": {},
   "outputs": [
    {
     "data": {
      "text/plain": [
       "12"
      ]
     },
     "execution_count": 10,
     "metadata": {},
     "output_type": "execute_result"
    }
   ],
   "source": [
    "fp1.write(b'Hello world!')"
   ]
  },
  {
   "cell_type": "code",
   "execution_count": 11,
   "metadata": {},
   "outputs": [
    {
     "data": {
      "text/plain": [
       "b'Hello world!'"
      ]
     },
     "execution_count": 11,
     "metadata": {},
     "output_type": "execute_result"
    }
   ],
   "source": [
    "# read data from file\n",
    "fp1.seek(0)\n",
    "fp1.read()"
   ]
  },
  {
   "cell_type": "code",
   "execution_count": 12,
   "metadata": {},
   "outputs": [],
   "source": [
    "fp1.close()"
   ]
  },
  {
   "cell_type": "code",
   "execution_count": 13,
   "metadata": {},
   "outputs": [
    {
     "data": {
      "text/plain": [
       "False"
      ]
     },
     "execution_count": 13,
     "metadata": {},
     "output_type": "execute_result"
    }
   ],
   "source": [
    "os.path.exists(fp1.name)"
   ]
  },
  {
   "cell_type": "code",
   "execution_count": 14,
   "metadata": {},
   "outputs": [
    {
     "name": "stdout",
     "output_type": "stream",
     "text": [
      "C:\\Users\\user\\AppData\\Local\\Temp\\tmpjloy7uvw\n",
      "b'Hello world!'\n",
      "True\n"
     ]
    }
   ],
   "source": [
    "### 3. use \"with\"\n",
    "\n",
    "with tempfile.NamedTemporaryFile() as fp2:\n",
    "    fp2.write(b'Hello world!')\n",
    "    print(fp2.name)\n",
    "    fp2.seek(0)\n",
    "    print(fp2.read())\n",
    "    print(os.path.exists(fp2.name))"
   ]
  },
  {
   "cell_type": "code",
   "execution_count": 15,
   "metadata": {},
   "outputs": [
    {
     "name": "stdout",
     "output_type": "stream",
     "text": [
      "False\n"
     ]
    }
   ],
   "source": [
    "print(os.path.exists(fp2.name))\n",
    "#use\"with\", the file will close automaticlly."
   ]
  },
  {
   "cell_type": "code",
   "execution_count": 16,
   "metadata": {},
   "outputs": [
    {
     "name": "stdout",
     "output_type": "stream",
     "text": [
      "臨時目錄名: C:\\Users\\user\\AppData\\Local\\Temp\\tmp9rxcc9qu\n"
     ]
    }
   ],
   "source": [
    "### 4. tempfile.TemporaryDirectory() 建立一個臨時目錄，可在暫存目錄中可以存放任意數量的暫存檔\n",
    "\n",
    "### tempfile. TemporaryDirectory(suffix=None, prefix=None, dir=None)\n",
    "from tempfile import TemporaryDirectory\n",
    "with TemporaryDirectory() as fp:\n",
    "    print('臨時目錄名:', fp)"
   ]
  },
  {
   "cell_type": "code",
   "execution_count": 17,
   "metadata": {},
   "outputs": [],
   "source": [
    "### 5. tempfile.mkstemp() 建立臨時文件，但要自己刪除，較低級別，且不能與with一起使用\n",
    "### 6. tempfile.mkdtemp() 建立臨時目錄，但要自己刪除，較低級別，且不能與with一起使用\n",
    "### 7. tempfile.SpooledTemporaryFile 建立臨時目錄，和 TemporaryFile 函數相比，當程序像該臨時文件輸出數據時，會先輸出到內存中，直到超過 max_size 才會真正输出到物理磁盤中\n",
    "### 8. gettempdir() 獲取系统的臨時目錄\n",
    "### 9. gettempprefix() 返回臨時文件的prefix名稱。"
   ]
  }
 ],
 "metadata": {
  "kernelspec": {
   "display_name": "Python 3",
   "language": "python",
   "name": "python3"
  },
  "language_info": {
   "codemirror_mode": {
    "name": "ipython",
    "version": 3
   },
   "file_extension": ".py",
   "mimetype": "text/x-python",
   "name": "python",
   "nbconvert_exporter": "python",
   "pygments_lexer": "ipython3",
   "version": "3.7.3"
  }
 },
 "nbformat": 4,
 "nbformat_minor": 2
}
